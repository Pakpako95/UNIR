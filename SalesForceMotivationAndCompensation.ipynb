{
  "nbformat": 4,
  "nbformat_minor": 0,
  "metadata": {
    "colab": {
      "provenance": [],
      "authorship_tag": "ABX9TyOi8NMU6NC1pUETb3ayTeos",
      "include_colab_link": true
    },
    "kernelspec": {
      "name": "python3",
      "display_name": "Python 3"
    },
    "language_info": {
      "name": "python"
    }
  },
  "cells": [
    {
      "cell_type": "markdown",
      "metadata": {
        "id": "view-in-github",
        "colab_type": "text"
      },
      "source": [
        "<a href=\"https://colab.research.google.com/github/Pakpako95/UNIR/blob/main/SalesForceMotivationAndCompensation.ipynb\" target=\"_parent\"><img src=\"https://colab.research.google.com/assets/colab-badge.svg\" alt=\"Open In Colab\"/></a>"
      ]
    },
    {
      "cell_type": "markdown",
      "source": [
        "## **Sales Force Motivation and Compensation**"
      ],
      "metadata": {
        "id": "WDF3e-J7qeKe"
      }
    },
    {
      "cell_type": "markdown",
      "source": [
        "### **1. Sales force motivation**\n",
        "\n"
      ],
      "metadata": {
        "id": "LGus2lRPqkWi"
      }
    },
    {
      "cell_type": "markdown",
      "source": [
        "Motivation consists of three elements: Need, Drive and Goal.\n",
        "\n"
      ],
      "metadata": {
        "id": "4jBH4gSvrl3O"
      }
    },
    {
      "cell_type": "markdown",
      "source": [
        "**Maslow's hierarchy of needs theory**\n",
        "\n",
        "Classifies the needs of an individual into five categories:\n",
        "\n",
        "1. Physiological\n",
        "2. Safety & Security\n",
        "3. Social\n",
        "4. Self-esteem\n",
        "5. Self-actualization needs\n",
        "\n"
      ],
      "metadata": {
        "id": "5_XCcJQoxj8O"
      }
    },
    {
      "cell_type": "markdown",
      "source": [
        "**Herzberg's two-factor theory**\n",
        "\n",
        "Statest that the job environment of an individual is characterized by two types of factors.\n",
        "\n",
        "1. Hygiene factors\n",
        "2. Motivational factors"
      ],
      "metadata": {
        "id": "uFZCSyse6et-"
      }
    },
    {
      "cell_type": "markdown",
      "source": [
        "**Goal-setting theory**\n",
        "\n",
        "Presumes that people have specific needs and aspirations to fulfill for which they set certain goals for themselves. They then go about achieving these goals by taking purposeful action."
      ],
      "metadata": {
        "id": "oh7cjtl66vqV"
      }
    },
    {
      "cell_type": "markdown",
      "source": [
        "**Job design theories**\n",
        "\n",
        "Assume that all individuals have the same needs, and that ensuring certain job characteristics can satisfy these needs."
      ],
      "metadata": {
        "id": "dfR2GwCG7C_V"
      }
    },
    {
      "cell_type": "markdown",
      "source": [
        "Sales managers can take various measures to motivate the sales force and boost its productivity. These measures can be in the form of sales quotas, sales contests, well-designed compensation plans and reward systems, etc."
      ],
      "metadata": {
        "id": "n9KtXgoP7OqY"
      }
    },
    {
      "cell_type": "markdown",
      "source": [
        "### **2. Sales comission plans**\n",
        "\n"
      ],
      "metadata": {
        "id": "eJCfUPmN7gv_"
      }
    },
    {
      "cell_type": "markdown",
      "source": [
        "The best sales compensation programs are ones that are fair, motivating and will achieve the goals of the company. Setting unrealistic sales goals, or putting unrealistic ceililngs on earnings power will create discord in the ranks of the top salespeople.\n",
        "\n",
        "The bes sales compensation should follows:\n",
        "\n",
        "* Make sure the copmpensation plan and budget are devoloped in conjunction with the Company's overall planning process.\n",
        "\n",
        "* Develop the compensation plan to focus on both tactical sales objectives and the company's strategic objectives and goals\n",
        "\n",
        "* Make certain the plan does not direct sales behavior away from organization objectives.\n",
        "\n",
        "* Create metrics and measurable criteria for the tactical and strategic objectives.\n",
        "\n",
        "* Keep your plan simple. Should not be complicated to understand how workers are being rewarded.\n",
        "\n",
        "* Relationship building and consultative selling with major clients requires long-term engagements and often necessities a fixed salary component to the plan.\n",
        "\n",
        "* Design the compensation plan so it discourages turnover among the top sales people.\n",
        "\n",
        "* Reward your sales team based on their contribution and worth.\n",
        "\n",
        "* Create sales commission plans so it differentiates between top, average, and inadequate performers.\n",
        "\n",
        "* Perform benchmarking.\n",
        "\n",
        "* Try to create plans that do not create direct competition between salespeople.\n",
        "\n",
        "* Sales commission plans should be evolutionary, not revolutionary.\n",
        "\n",
        "* Remember that individuals are motivated differently by the types of sales jobs and their individual and personal agendas.\n",
        "\n",
        "* Use the sales constests judiciously.\n",
        "\n"
      ],
      "metadata": {
        "id": "AyMZw37-7kSe"
      }
    },
    {
      "cell_type": "markdown",
      "source": [
        "### **3. Types of comission plans**\n",
        "\n"
      ],
      "metadata": {
        "id": "2LPI4Wi99XuY"
      }
    },
    {
      "cell_type": "markdown",
      "source": [
        "a) Salary Only\n",
        "\n",
        "b) Straight Commission\n",
        "\n",
        "c) Combination Sales Commission Plans"
      ],
      "metadata": {
        "id": "PaPZKju59e-C"
      }
    }
  ]
}