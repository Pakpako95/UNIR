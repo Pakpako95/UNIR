{
  "nbformat": 4,
  "nbformat_minor": 0,
  "metadata": {
    "colab": {
      "provenance": [],
      "authorship_tag": "ABX9TyOlehyGcxVuqcHlhyYPOtWk",
      "include_colab_link": true
    },
    "kernelspec": {
      "name": "python3",
      "display_name": "Python 3"
    },
    "language_info": {
      "name": "python"
    }
  },
  "cells": [
    {
      "cell_type": "markdown",
      "metadata": {
        "id": "view-in-github",
        "colab_type": "text"
      },
      "source": [
        "<a href=\"https://colab.research.google.com/github/Pakpako95/UNIR/blob/main/SalesCompensationStrategy.ipynb\" target=\"_parent\"><img src=\"https://colab.research.google.com/assets/colab-badge.svg\" alt=\"Open In Colab\"/></a>"
      ]
    },
    {
      "cell_type": "markdown",
      "source": [
        "## **Sales Compensation Strategy: An Optimal Design of Pay Level and Pay Mix**"
      ],
      "metadata": {
        "id": "kGVJ0R1GZ3HC"
      }
    },
    {
      "cell_type": "markdown",
      "source": [
        "#### **Introduction**"
      ],
      "metadata": {
        "id": "K5MnubFJcEt_"
      }
    },
    {
      "cell_type": "markdown",
      "source": [
        "Effective compensation strategy has the goal of attracting, motivating, and retaining qualified sales employees.\n",
        "\n",
        "Sales compensation must be perceived by salesforce as fair, competitive,  accurately based, motivating and easy to understand.\n",
        "\n",
        "Intrinsic rewards reflect employees’ psychological satisfaction resulting from\n",
        "performing their tasks. Extrinsic rewards are both monetary and non monetary and include a blend of both fixed and variable pay as well as employee benefits and services."
      ],
      "metadata": {
        "id": "Aoj0UWnoZ6Fq"
      }
    },
    {
      "cell_type": "markdown",
      "source": [
        "#### **Compensation Strategy: Pay Level and Pay Mix Relationship**"
      ],
      "metadata": {
        "id": "SVMemBfyabvB"
      }
    },
    {
      "cell_type": "markdown",
      "source": [
        "Compensation strategy  is key method of\n",
        "influencing and motivating salespeople’s behavior and performance.\n",
        "\n",
        "**Herzberg’s theory** Pay level is\n",
        "identified as a “hygiene factor” and as such could cause employee dissatisfaction if a salary expectation is not realized. Pay mix,  could be a “motivating factor”.\n",
        "\n",
        "Sales effort generates sales performance, which generates rewards (in terms of pay level), which in turn generates motivation (through pay mix of compensation strategy)\n",
        "\n",
        "Incentive compensation is most effective when sales effort of sales employee is strongly related to sales output\n",
        "\n",
        "A salesperson’s performance depends also on the reward system used to motivate a salesforce."
      ],
      "metadata": {
        "id": "YdaBPxHwaggW"
      }
    },
    {
      "cell_type": "markdown",
      "source": [
        "#### **Pay Level and Pay Mix Design: Major Attributes**"
      ],
      "metadata": {
        "id": "mtON8fnza0yw"
      }
    },
    {
      "cell_type": "markdown",
      "source": [
        "The most practical way to develop a sales compensation plan is to work\n",
        "backward using as the starting point the total amount of compensation that a sales organization decides to pay the sales people (pay level) for the level of sales performance\n",
        "desired."
      ],
      "metadata": {
        "id": "poUamRVza5Qb"
      }
    },
    {
      "cell_type": "markdown",
      "source": [
        "**Pay Level Design** ensure that “size of reward” (output) and the “efforts level” (input) required for the performance relatedness of the plan are aligned."
      ],
      "metadata": {
        "id": "kTN6Fw5na8Uf"
      }
    },
    {
      "cell_type": "markdown",
      "source": [
        "**Pay Mix Design** The effective pay mix design motivates the right sales activities that lead to appropriate treatment of customers and achievement of organizational goals."
      ],
      "metadata": {
        "id": "ifnkQr6DbB_V"
      }
    },
    {
      "cell_type": "markdown",
      "source": [
        "#### **Factors Influencing Pay Level and Pay Mix Design of Sales Organization**"
      ],
      "metadata": {
        "id": "av-lFX5bbGNS"
      }
    },
    {
      "cell_type": "markdown",
      "source": [
        "Pay level is influenced by characteristics of the sales organization (nature of business, product, industry, organization size and profitability (ability to pay)), the job market conditions for sales people (availability, demand and supply of required skill sets, pay levels and practices of competitors), the content of sales job (analysis, requirement, responsibility and evaluation of sales job), the quality of sales employee (education, age, skills and\n",
        "experience) and management style and philosophy (organizational structure, objectives, policies and strategies such as pay leader or pay follower). It is also impacted by various other factors such as geographical location or cluster, trade unions, statutory requirements, standard of living, as well as general economic conditions.\n",
        "\n",
        "The pay mix of the sales organization has twin objectives of controlling labour costs and attracting, retaining and motivating employees.\n",
        "\n",
        "Pay mix plans vary significantly depending on the sales organization's environment, the competitiveness of the market in which it does business, environmental munificence (the degree to which resources are abundant or scarce), environmental turbulence and uncertainty (competitive and economic conditions), nature of industry, region, size, age (length of time in business), nature of products and services, current/desired sales structure, product life cycle, organization life cycle, culture, career life cycle, degree of unionization and nature of the work performed (the nature of sales and selling process, types of sales effort/behaviors desired).  "
      ],
      "metadata": {
        "id": "IMfWriKMbKPm"
      }
    },
    {
      "cell_type": "markdown",
      "source": [
        "Various factors influencing pay level and pay mix design below:\n",
        "\n",
        "* Industry Practices\n",
        "\n",
        "* Organizational Size\n",
        "\n",
        "* Job Challenges\n",
        "\n",
        "* Job Programmability\n",
        "\n",
        "* Impact of Selling Effort on Sales\n",
        "\n",
        "* High Competency, Education and Experience of Sales People\n",
        "\n",
        "* Ability to Pay\n",
        "\n",
        "* Willingness to Pay\n",
        "\n",
        "* Difficulty of Assessing Performance\n",
        "\n",
        "* Long-Term Orientation\n",
        "\n",
        "* Specific Sales Roles and Selling Processes\n",
        "\n",
        "* Difficulty of Replacing Salespeople\n",
        "\n",
        "* High Sales Carryover"
      ],
      "metadata": {
        "id": "7B9B-IM3bTNi"
      }
    },
    {
      "cell_type": "markdown",
      "source": [
        "#### **Conclusion**"
      ],
      "metadata": {
        "id": "BWpG-dl5byRT"
      }
    },
    {
      "cell_type": "markdown",
      "source": [
        "Compensation policies and practices differ widely across sales organizations and are based on the fact that fitting compensation systems  to organizational and environmental conditions makes a difference as it has some desired effects on sales employee behaviors and the performance of sales organizations."
      ],
      "metadata": {
        "id": "oqsLqAP0bwfz"
      }
    }
  ]
}